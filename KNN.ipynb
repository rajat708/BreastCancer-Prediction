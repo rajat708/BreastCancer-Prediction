{
 "cells": [
  {
   "cell_type": "code",
   "execution_count": 118,
   "metadata": {
    "collapsed": false
   },
   "outputs": [],
   "source": [
    "import numpy as np\n",
    "import pandas as pd\n",
    "from collections import Counter\n",
    "import random"
   ]
  },
  {
   "cell_type": "code",
   "execution_count": 104,
   "metadata": {
    "collapsed": false
   },
   "outputs": [],
   "source": [
    "def knn(data, predict, k=3):\n",
    "    if len(data) >= k:\n",
    "        warnings.warn(\"K is set to a value less than total voting groups. IDIOT!!\")\n",
    "    distances = []\n",
    "    for group in data:\n",
    "        for features in data[group]:\n",
    "            \n",
    "            euclidian_distance = np.linalg.norm(np.array(features)-np.array(predict))\n",
    "            distances.append([euclidian_distance, group])\n",
    "\n",
    "    votes = [i[1] for i in sorted(distances)[:k]]\n",
    "    vote_result = Counter(votes).most_common(1)[0][0]\n",
    "    \n",
    "    return vote_result"
   ]
  },
  {
   "cell_type": "code",
   "execution_count": 7,
   "metadata": {
    "collapsed": false
   },
   "outputs": [
    {
     "data": {
      "text/plain": [
       "u'C:\\\\Users\\\\pc'"
      ]
     },
     "execution_count": 7,
     "metadata": {},
     "output_type": "execute_result"
    }
   ],
   "source": [
    "pwd\n"
   ]
  },
  {
   "cell_type": "code",
   "execution_count": 8,
   "metadata": {
    "collapsed": false
   },
   "outputs": [],
   "source": [
    "df = pd.read_csv(\"data.csv\")"
   ]
  },
  {
   "cell_type": "code",
   "execution_count": null,
   "metadata": {
    "collapsed": false
   },
   "outputs": [],
   "source": [
    "\n"
   ]
  },
  {
   "cell_type": "code",
   "execution_count": 120,
   "metadata": {
    "collapsed": false
   },
   "outputs": [],
   "source": [
    "data_set = df.drop('id',axis =1)\n"
   ]
  },
  {
   "cell_type": "code",
   "execution_count": null,
   "metadata": {
    "collapsed": false
   },
   "outputs": [],
   "source": []
  },
  {
   "cell_type": "code",
   "execution_count": 101,
   "metadata": {
    "collapsed": false
   },
   "outputs": [
    {
     "name": "stdout",
     "output_type": "stream",
     "text": [
      "114\n"
     ]
    }
   ],
   "source": [
    "test_size = 0.8\n",
    "\n",
    "data_train = data_set[:int(test_size*len(data_set))]\n",
    "data_test = data_set[int(test_size*len(data_set)):]\n",
    "print(len(data_test))\n"
   ]
  },
  {
   "cell_type": "code",
   "execution_count": 143,
   "metadata": {
    "collapsed": false
   },
   "outputs": [
    {
     "name": "stdout",
     "output_type": "stream",
     "text": [
      "114\n",
      "109\n"
     ]
    }
   ],
   "source": [
    "data_train.loc[data_train[\"diagnosis\"]==\"M\",\"diagnosis\"] = 1\n",
    "data_train.loc[data_train[\"diagnosis\"]==\"B\",\"diagnosis\"] = 0 \n",
    "data_test.loc[data_test[\"diagnosis\"]==\"M\",\"diagnosis\"] = 1\n",
    "data_test.loc[data_test[\"diagnosis\"]==\"B\",\"diagnosis\"] = 0 \n",
    "\n",
    "train_set = {1:[] , 0:[]}\n",
    "test_set = {1:[], 0:[]}\n",
    "for key,values in data_train.iterrows():\n",
    "    train_set[values['diagnosis']].append(values[\"radius_worst\":\"fractal_dimension_worst\"])\n",
    "for key,values in data_test.iterrows():\n",
    "    test_set[values['diagnosis']].append(values[\"radius_worst\":\"fractal_dimension_worst\"])\n",
    "total = 0 ;\n",
    "correct= 0 ;\n",
    "for group in test_set:\n",
    "    for data in test_set[group]:\n",
    "        \n",
    "\n",
    "    \n",
    "\n",
    "        vote = knn(train_set,data,10)\n",
    "        if group == vote:\n",
    "            correct += 1\n",
    "        total  += 1     \n",
    "        \n",
    "\n",
    "print(total)   \n",
    "    \n",
    "print(correct)\n",
    "\n",
    "        \n",
    "\n",
    "    "
   ]
  },
  {
   "cell_type": "code",
   "execution_count": null,
   "metadata": {
    "collapsed": false
   },
   "outputs": [],
   "source": [
    "\n",
    "\n"
   ]
  },
  {
   "cell_type": "code",
   "execution_count": null,
   "metadata": {
    "collapsed": true
   },
   "outputs": [],
   "source": []
  }
 ],
 "metadata": {
  "anaconda-cloud": {},
  "kernelspec": {
   "display_name": "Python [Root]",
   "language": "python",
   "name": "Python [Root]"
  },
  "language_info": {
   "codemirror_mode": {
    "name": "ipython",
    "version": 2
   },
   "file_extension": ".py",
   "mimetype": "text/x-python",
   "name": "python",
   "nbconvert_exporter": "python",
   "pygments_lexer": "ipython2",
   "version": "2.7.12"
  }
 },
 "nbformat": 4,
 "nbformat_minor": 0
}
